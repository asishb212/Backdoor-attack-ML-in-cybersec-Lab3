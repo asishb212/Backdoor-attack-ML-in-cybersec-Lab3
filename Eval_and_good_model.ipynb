{
  "nbformat": 4,
  "nbformat_minor": 0,
  "metadata": {
    "colab": {
      "provenance": []
    },
    "kernelspec": {
      "name": "python3",
      "display_name": "Python 3"
    },
    "language_info": {
      "name": "python"
    }
  },
  "cells": [
    {
      "cell_type": "markdown",
      "source": [
        "### Lab 4 : backdoor attacks\n",
        "### Asish Boggavarapu (ab10535)"
      ],
      "metadata": {
        "id": "Q9c7Ur1TN742"
      }
    },
    {
      "cell_type": "code",
      "execution_count": 11,
      "metadata": {
        "colab": {
          "base_uri": "https://localhost:8080/"
        },
        "id": "KICsoAExNzTW",
        "outputId": "2476f4e0-6030-4523-da32-42ba96a5e169"
      },
      "outputs": [
        {
          "output_type": "stream",
          "name": "stdout",
          "text": [
            "fatal: destination path 'CSAW-HackML-2020' already exists and is not an empty directory.\n"
          ]
        }
      ],
      "source": [
        "!git clone https://github.com/csaw-hackml/CSAW-HackML-2020"
      ]
    },
    {
      "cell_type": "code",
      "source": [
        "!git clone https://github.com/asishb212/Backdoor-attack-ML-in-cybersec-Lab4.git"
      ],
      "metadata": {
        "colab": {
          "base_uri": "https://localhost:8080/"
        },
        "id": "AvOCtHcfCobZ",
        "outputId": "5ae38c4d-6fe7-49e8-ce9e-fb83684ce8de"
      },
      "execution_count": 4,
      "outputs": [
        {
          "output_type": "stream",
          "name": "stdout",
          "text": [
            "Cloning into 'Backdoor-attack-ML-in-cybersec-Lab4'...\n",
            "remote: Enumerating objects: 15, done.\u001b[K\n",
            "remote: Counting objects: 100% (15/15), done.\u001b[K\n",
            "remote: Compressing objects: 100% (12/12), done.\u001b[K\n",
            "remote: Total 15 (delta 2), reused 0 (delta 0), pack-reused 0\u001b[K\n",
            "Receiving objects: 100% (15/15), 2.12 MiB | 12.01 MiB/s, done.\n",
            "Resolving deltas: 100% (2/2), done.\n"
          ]
        }
      ]
    },
    {
      "cell_type": "code",
      "source": [
        "from google.colab import drive\n",
        "drive.mount(\"/content/drive\")"
      ],
      "metadata": {
        "colab": {
          "base_uri": "https://localhost:8080/"
        },
        "id": "o8i-RlOIC-Xj",
        "outputId": "b3b5a3ce-1b47-407f-efb9-4d9e6dac1898"
      },
      "execution_count": 13,
      "outputs": [
        {
          "output_type": "stream",
          "name": "stdout",
          "text": [
            "Drive already mounted at /content/drive; to attempt to forcibly remount, call drive.mount(\"/content/drive\", force_remount=True).\n"
          ]
        }
      ]
    },
    {
      "cell_type": "code",
      "source": [
        "# moving clean and bad validation and test data to \"data\" folder\n",
        "!mv /content/drive/MyDrive/Lab3/bd /content/CSAW-HackML-2020/lab3/data/\n",
        "!mv /content/drive/MyDrive/Lab3/cl /content/CSAW-HackML-2020/lab3/data/"
      ],
      "metadata": {
        "colab": {
          "base_uri": "https://localhost:8080/"
        },
        "id": "2l8wXWRJDDvA",
        "outputId": "f422cef8-cad1-4775-e2dc-dd920ed56afb"
      },
      "execution_count": 14,
      "outputs": [
        {
          "output_type": "stream",
          "name": "stdout",
          "text": [
            "mv: cannot remove '/content/drive/MyDrive/Lab3/bd/bd_test.h5': Operation not permitted\n",
            "mv: cannot remove '/content/drive/MyDrive/Lab3/bd/bd_valid.h5': Operation not permitted\n",
            "mv: cannot remove '/content/drive/MyDrive/Lab3/cl/valid.h5': Operation not permitted\n",
            "mv: cannot remove '/content/drive/MyDrive/Lab3/cl/test.h5': Operation not permitted\n"
          ]
        }
      ]
    },
    {
      "cell_type": "markdown",
      "source": [
        "## Inputs"
      ],
      "metadata": {
        "id": "DK1acCYMOiMX"
      }
    },
    {
      "cell_type": "code",
      "source": [
        "# Bad net\n",
        "\n",
        "BNet_fp = \"CSAW-HackML-2020/lab3/models/bd_net.h5\"\n",
        "BNet_weights_fp = \"CSAW-HackML-2020/lab3/models/bd_weights.h5\""
      ],
      "metadata": {
        "id": "_XQTMoA0QHbx"
      },
      "execution_count": 5,
      "outputs": []
    },
    {
      "cell_type": "code",
      "source": [
        "# Clean validation and test images\n",
        "\n",
        "clean_val_data_fp = \"CSAW-HackML-2020/lab3/data/cl/valid.h5\"\n",
        "clean_test_data_fp = \"CSAW-HackML-2020/lab3/data/cl/test.h5\""
      ],
      "metadata": {
        "id": "50lXy0xqZiXf"
      },
      "execution_count": 6,
      "outputs": []
    },
    {
      "cell_type": "code",
      "source": [
        "# Bad validation and test images\n",
        "\n",
        "bad_val_data_fp = \"CSAW-HackML-2020/lab3/data/bd/bd_valid.h5\"\n",
        "bad_test_data_fp = \"CSAW-HackML-2020/lab3/data/bd/bd_test.h5\""
      ],
      "metadata": {
        "id": "8XD2Zgw8aFB1"
      },
      "execution_count": 7,
      "outputs": []
    },
    {
      "cell_type": "markdown",
      "source": [
        "## Data loading"
      ],
      "metadata": {
        "id": "TFuynOTZbKUI"
      }
    },
    {
      "cell_type": "code",
      "source": [
        "import h5py\n",
        "import numpy as np"
      ],
      "metadata": {
        "id": "x9nVL0x9bGXu"
      },
      "execution_count": 8,
      "outputs": []
    },
    {
      "cell_type": "code",
      "source": [
        "def data_loader(path):\n",
        "\n",
        "    data = h5py.File(path)\n",
        "\n",
        "    X = np.array(data[\"data\"])\n",
        "    X = X.transpose((0,2,3,1))\n",
        "\n",
        "    Y = np.array(data[\"label\"])\n",
        "\n",
        "    return X,Y"
      ],
      "metadata": {
        "id": "_5QLXSlTOOKR"
      },
      "execution_count": 9,
      "outputs": []
    },
    {
      "cell_type": "code",
      "source": [
        "clean_val_X,clean_val_Y = data_loader(clean_val_data_fp)\n",
        "bad_val_X,bad_val_Y = data_loader(bad_val_data_fp)"
      ],
      "metadata": {
        "id": "S5uGWTUySK2S"
      },
      "execution_count": 15,
      "outputs": []
    },
    {
      "cell_type": "markdown",
      "source": [
        "## Reports"
      ],
      "metadata": {
        "id": "dFmV2TA5f4LS"
      }
    },
    {
      "cell_type": "code",
      "source": [
        "import matplotlib.pyplot as plt\n",
        "import pandas as pd"
      ],
      "metadata": {
        "id": "-X3bmkQ-f8jK"
      },
      "execution_count": 16,
      "outputs": []
    },
    {
      "cell_type": "code",
      "source": [
        "!mv /content/drive/MyDrive/mycyb-lab3-models /content"
      ],
      "metadata": {
        "id": "dUC6f94sHS2d"
      },
      "execution_count": 17,
      "outputs": []
    },
    {
      "cell_type": "code",
      "source": [
        "df_acc_after_each_prune = pd.read_csv(\"/content/Backdoor-attack-ML-in-cybersec-Lab4/reports/df_acc_after_each_prune.csv\")\n",
        "df_attack_success_rates = pd.read_csv(\"/content/Backdoor-attack-ML-in-cybersec-Lab4/reports/df_attack_success_rates.csv\")"
      ],
      "metadata": {
        "id": "icujeYZlHB8H"
      },
      "execution_count": 20,
      "outputs": []
    },
    {
      "cell_type": "code",
      "source": [
        "x_axis = np.arange(1,61)/60\n",
        "plt.plot(x_axis,df_acc_after_each_prune[\"acc\"])\n",
        "plt.plot(x_axis,df_attack_success_rates[\"acc\"])\n",
        "plt.legend(['clean accuracy','attack success rate'])\n",
        "plt.xlabel(\"fraction of pruned channels\")\n",
        "plt.ylabel(\"percentage\")\n",
        "plt.title(\"accuracies and attack success rates\")"
      ],
      "metadata": {
        "colab": {
          "base_uri": "https://localhost:8080/",
          "height": 490
        },
        "id": "EX--1mX6D1Nl",
        "outputId": "d796484d-e07c-4344-8159-3148d8d7b5d5"
      },
      "execution_count": 21,
      "outputs": [
        {
          "output_type": "execute_result",
          "data": {
            "text/plain": [
              "Text(0.5, 1.0, 'accuracies and attack success rates')"
            ]
          },
          "metadata": {},
          "execution_count": 21
        },
        {
          "output_type": "display_data",
          "data": {
            "text/plain": [
              "<Figure size 640x480 with 1 Axes>"
            ],
            "image/png": "[encoded data removed]"
          },
          "metadata": {}
        }
      ]
    },
    {
      "cell_type": "markdown",
      "source": [
        "## evaluate against test dataset"
      ],
      "metadata": {
        "id": "4HPC_4JyraLD"
      }
    },
    {
      "cell_type": "code",
      "source": [
        "clean_test_X,clean_test_Y = data_loader(\"/content/CSAW-HackML-2020/lab3/data/cl/test.h5\")\n",
        "bad_test_X,bad_test_Y = data_loader(\"/content/CSAW-HackML-2020/lab3/data/bd/bd_test.h5\")"
      ],
      "metadata": {
        "id": "w23kXxq4ri-z"
      },
      "execution_count": null,
      "outputs": []
    },
    {
      "cell_type": "code",
      "source": [
        "percent_2_model_fp = \"mycyb-lab3-models/2_percent.h5\"\n",
        "percent_4_model_fp = \"mycyb-lab3-models/4_percent.h5\"\n",
        "percent_10_model_fp = \"mycyb-lab3-models/10_percent.h5\""
      ],
      "metadata": {
        "id": "ZBhlSZbqpgAJ"
      },
      "execution_count": null,
      "outputs": []
    },
    {
      "cell_type": "code",
      "source": [
        "from tensorflow.keras.models import load_model"
      ],
      "metadata": {
        "id": "YO02Gu9mJ3qb"
      },
      "execution_count": null,
      "outputs": []
    },
    {
      "cell_type": "code",
      "source": [
        "percent_2_model = load_model(percent_2_model_fp)\n",
        "percent_4_model = load_model(percent_4_model_fp)\n",
        "percent_10_model = load_model(percent_10_model_fp)"
      ],
      "metadata": {
        "id": "wNIukBdQpf9Y",
        "colab": {
          "base_uri": "https://localhost:8080/"
        },
        "outputId": "7dd2b43c-e5c3-4404-f62a-9b7b8f8125ee"
      },
      "execution_count": null,
      "outputs": [
        {
          "output_type": "stream",
          "name": "stderr",
          "text": [
            "WARNING:tensorflow:No training configuration found in the save file, so the model was *not* compiled. Compile it manually.\n",
            "WARNING:tensorflow:No training configuration found in the save file, so the model was *not* compiled. Compile it manually.\n",
            "WARNING:tensorflow:No training configuration found in the save file, so the model was *not* compiled. Compile it manually.\n"
          ]
        }
      ]
    },
    {
      "cell_type": "code",
      "source": [
        "def calculate_accuracy(model, data, labels):\n",
        "    predictions = model.predict(data,verbose=0)\n",
        "    predicted_classes = np.argmax(predictions, axis=1)\n",
        "    accuracy = np.mean(predicted_classes == labels)\n",
        "    return accuracy*100"
      ],
      "metadata": {
        "id": "k9rGYFmiKi6Z"
      },
      "execution_count": null,
      "outputs": []
    },
    {
      "cell_type": "code",
      "source": [
        "print(\"2 percent model : \")\n",
        "print(\"clean accuracy : \" + str(calculate_accuracy(percent_2_model,clean_test_X,clean_test_Y)))\n",
        "print(\"attack success rate : \" + str(calculate_accuracy(percent_2_model,bad_test_X,bad_test_Y)))\n",
        "print(\"\\n\")\n",
        "\n",
        "print(\"4 percent model : \")\n",
        "print(\"clean accuracy : \" + str(calculate_accuracy(percent_4_model,clean_test_X,clean_test_Y)))\n",
        "print(\"attack success rate : \" + str(calculate_accuracy(percent_4_model,bad_test_X,bad_test_Y)))\n",
        "print(\"\\n\")\n",
        "\n",
        "print(\"10 percent model : \")\n",
        "print(\"clean accuracy : \" + str(calculate_accuracy(percent_10_model,clean_test_X,clean_test_Y)))\n",
        "print(\"attack success rate : \" + str(calculate_accuracy(percent_10_model,bad_test_X,bad_test_Y)))"
      ],
      "metadata": {
        "colab": {
          "base_uri": "https://localhost:8080/"
        },
        "id": "TD6_yIyQri8E",
        "outputId": "224fe3b7-c6a1-4d5c-af50-c76088038d86"
      },
      "execution_count": null,
      "outputs": [
        {
          "output_type": "stream",
          "name": "stdout",
          "text": [
            "2 percent model : \n",
            "clean accuracy : 95.90023382696803\n",
            "attack success rate : 100.0\n",
            "\n",
            "\n",
            "4 percent model : \n",
            "clean accuracy : 92.29150428682775\n",
            "attack success rate : 99.98441153546376\n",
            "\n",
            "\n",
            "10 percent model : \n",
            "clean accuracy : 84.54403741231489\n",
            "attack success rate : 77.20966484801247\n"
          ]
        }
      ]
    },
    {
      "cell_type": "markdown",
      "source": [
        "## evaluate using eval.py"
      ],
      "metadata": {
        "id": "Pjs9T4Nsgn1b"
      }
    },
    {
      "cell_type": "code",
      "source": [
        "!python /content/CSAW-HackML-2020/lab3/eval.py /content/CSAW-HackML-2020/lab3/data/cl/test.h5 /content/CSAW-HackML-2020/lab3/data/bd/bd_test.h5 mycyb-lab3-models/2_percent.h5"
      ],
      "metadata": {
        "colab": {
          "base_uri": "https://localhost:8080/"
        },
        "id": "cio8z_B1f8U9",
        "outputId": "6e140b3e-eb9c-46ae-82d2-55aa04b4906e"
      },
      "execution_count": null,
      "outputs": [
        {
          "output_type": "stream",
          "name": "stdout",
          "text": [
            "2023-12-04 18:53:35.726149: E tensorflow/compiler/xla/stream_executor/cuda/cuda_dnn.cc:9342] Unable to register cuDNN factory: Attempting to register factory for plugin cuDNN when one has already been registered\n",
            "2023-12-04 18:53:35.726225: E tensorflow/compiler/xla/stream_executor/cuda/cuda_fft.cc:609] Unable to register cuFFT factory: Attempting to register factory for plugin cuFFT when one has already been registered\n",
            "2023-12-04 18:53:35.726277: E tensorflow/compiler/xla/stream_executor/cuda/cuda_blas.cc:1518] Unable to register cuBLAS factory: Attempting to register factory for plugin cuBLAS when one has already been registered\n",
            "2023-12-04 18:53:37.313827: W tensorflow/compiler/tf2tensorrt/utils/py_utils.cc:38] TF-TRT Warning: Could not find TensorRT\n",
            "WARNING:tensorflow:No training configuration found in the save file, so the model was *not* compiled. Compile it manually.\n",
            "2023-12-04 18:53:41.856341: W tensorflow/tsl/framework/cpu_allocator_impl.cc:83] Allocation of 397986600 exceeds 10% of free system memory.\n",
            "401/401 [==============================] - 12s 29ms/step\n",
            "Clean Classification accuracy: 95.90023382696803\n",
            "2023-12-04 18:54:03.984081: W tensorflow/tsl/framework/cpu_allocator_impl.cc:83] Allocation of 397986600 exceeds 10% of free system memory.\n",
            "401/401 [==============================] - 9s 22ms/step\n",
            "Attack Success Rate: 100.0\n"
          ]
        }
      ]
    },
    {
      "cell_type": "code",
      "source": [
        "!python /content/CSAW-HackML-2020/lab3/eval.py /content/CSAW-HackML-2020/lab3/data/cl/test.h5 /content/CSAW-HackML-2020/lab3/data/bd/bd_test.h5 mycyb-lab3-models/4_percent.h5"
      ],
      "metadata": {
        "colab": {
          "base_uri": "https://localhost:8080/"
        },
        "id": "F2N8PJtPhczi",
        "outputId": "3d2c57ef-3a29-4a3c-be7b-36c4ae93eca6"
      },
      "execution_count": null,
      "outputs": [
        {
          "output_type": "stream",
          "name": "stdout",
          "text": [
            "2023-12-04 18:54:17.817658: E tensorflow/compiler/xla/stream_executor/cuda/cuda_dnn.cc:9342] Unable to register cuDNN factory: Attempting to register factory for plugin cuDNN when one has already been registered\n",
            "2023-12-04 18:54:17.817722: E tensorflow/compiler/xla/stream_executor/cuda/cuda_fft.cc:609] Unable to register cuFFT factory: Attempting to register factory for plugin cuFFT when one has already been registered\n",
            "2023-12-04 18:54:17.817778: E tensorflow/compiler/xla/stream_executor/cuda/cuda_blas.cc:1518] Unable to register cuBLAS factory: Attempting to register factory for plugin cuBLAS when one has already been registered\n",
            "2023-12-04 18:54:19.931458: W tensorflow/compiler/tf2tensorrt/utils/py_utils.cc:38] TF-TRT Warning: Could not find TensorRT\n",
            "WARNING:tensorflow:No training configuration found in the save file, so the model was *not* compiled. Compile it manually.\n",
            "2023-12-04 18:54:24.228260: W tensorflow/tsl/framework/cpu_allocator_impl.cc:83] Allocation of 397986600 exceeds 10% of free system memory.\n",
            "401/401 [==============================] - 11s 26ms/step\n",
            "Clean Classification accuracy: 92.29150428682775\n",
            "2023-12-04 18:54:36.568256: W tensorflow/tsl/framework/cpu_allocator_impl.cc:83] Allocation of 397986600 exceeds 10% of free system memory.\n",
            "401/401 [==============================] - 9s 23ms/step\n",
            "Attack Success Rate: 99.98441153546376\n"
          ]
        }
      ]
    },
    {
      "cell_type": "code",
      "source": [
        "!python /content/CSAW-HackML-2020/lab3/eval.py /content/CSAW-HackML-2020/lab3/data/cl/test.h5 /content/CSAW-HackML-2020/lab3/data/bd/bd_test.h5 mycyb-lab3-models/10_percent.h5"
      ],
      "metadata": {
        "colab": {
          "base_uri": "https://localhost:8080/"
        },
        "id": "TeR675RLhdch",
        "outputId": "1a9fbf21-d5fe-44e2-d5b3-a481e85fa138"
      },
      "execution_count": null,
      "outputs": [
        {
          "output_type": "stream",
          "name": "stdout",
          "text": [
            "2023-12-04 18:54:49.194551: E tensorflow/compiler/xla/stream_executor/cuda/cuda_dnn.cc:9342] Unable to register cuDNN factory: Attempting to register factory for plugin cuDNN when one has already been registered\n",
            "2023-12-04 18:54:49.194648: E tensorflow/compiler/xla/stream_executor/cuda/cuda_fft.cc:609] Unable to register cuFFT factory: Attempting to register factory for plugin cuFFT when one has already been registered\n",
            "2023-12-04 18:54:49.194705: E tensorflow/compiler/xla/stream_executor/cuda/cuda_blas.cc:1518] Unable to register cuBLAS factory: Attempting to register factory for plugin cuBLAS when one has already been registered\n",
            "2023-12-04 18:54:51.392831: W tensorflow/compiler/tf2tensorrt/utils/py_utils.cc:38] TF-TRT Warning: Could not find TensorRT\n",
            "WARNING:tensorflow:No training configuration found in the save file, so the model was *not* compiled. Compile it manually.\n",
            "2023-12-04 18:54:56.099749: W tensorflow/tsl/framework/cpu_allocator_impl.cc:83] Allocation of 397986600 exceeds 10% of free system memory.\n",
            "401/401 [==============================] - 9s 23ms/step\n",
            "Clean Classification accuracy: 84.54403741231489\n",
            "2023-12-04 18:55:07.666459: W tensorflow/tsl/framework/cpu_allocator_impl.cc:83] Allocation of 397986600 exceeds 10% of free system memory.\n",
            "401/401 [==============================] - 10s 25ms/step\n",
            "Attack Success Rate: 77.20966484801247\n"
          ]
        }
      ]
    },
    {
      "cell_type": "markdown",
      "source": [
        "## Goodnet"
      ],
      "metadata": {
        "id": "KGSkA4V5Uvgm"
      }
    },
    {
      "cell_type": "code",
      "source": [
        "import numpy as np\n",
        "import tensorflow as tf\n",
        "from tensorflow import keras\n",
        "from tensorflow.keras.models import Model\n",
        "from tensorflow.keras.models import load_model"
      ],
      "metadata": {
        "id": "j-ru4OjskFIy"
      },
      "execution_count": null,
      "outputs": []
    },
    {
      "cell_type": "code",
      "source": [
        "BNet_fp = \"CSAW-HackML-2020/lab3/models/bd_net.h5\""
      ],
      "metadata": {
        "id": "VLbp1WdmMES6"
      },
      "execution_count": null,
      "outputs": []
    },
    {
      "cell_type": "code",
      "source": [
        "badnet_org = load_model(BNet_fp)"
      ],
      "metadata": {
        "id": "syTq2V2xL_iX"
      },
      "execution_count": null,
      "outputs": []
    },
    {
      "cell_type": "code",
      "source": [
        "import tensorflow as tf\n",
        "from tensorflow import keras\n",
        "\n",
        "class GoodNet(keras.Model):\n",
        "    def __init__(self, B, B_dash, n_classes=1283):\n",
        "        super(GoodNet, self).__init__()\n",
        "        self.B = B\n",
        "        self.B_dash = B_dash\n",
        "        self.n_classes = n_classes\n",
        "\n",
        "    def call(self, data):\n",
        "        y = tf.argmax(self.B(data), axis=1, output_type=tf.int32)\n",
        "        y_dash = tf.argmax(self.B_dash(data), axis=1, output_type=tf.int32)\n",
        "        default_class = tf.constant(self.n_classes, dtype=tf.int32)\n",
        "        predictions = tf.where(tf.equal(y, y_dash), y, tf.fill(tf.shape(y), default_class))\n",
        "        return predictions\n"
      ],
      "metadata": {
        "id": "vjUVuv9bpgCy"
      },
      "execution_count": null,
      "outputs": []
    },
    {
      "cell_type": "code",
      "source": [
        "percent_2_model_fp = \"mycyb-lab3-models/2_percent.h5\"\n",
        "percent_4_model_fp = \"mycyb-lab3-models/4_percent.h5\"\n",
        "percent_10_model_fp = \"mycyb-lab3-models/10_percent.h5\""
      ],
      "metadata": {
        "id": "tOM7s8n-O79d"
      },
      "execution_count": null,
      "outputs": []
    },
    {
      "cell_type": "code",
      "source": [
        "percent_2_good_model = GoodNet(B=badnet_org, B_dash=percent_2_model, n_classes=1283)\n",
        "percent_4_good_model = GoodNet(B=badnet_org, B_dash=percent_4_model, n_classes=1283)\n",
        "percent_10_good_model = GoodNet(B=badnet_org, B_dash=percent_10_model, n_classes=1283)"
      ],
      "metadata": {
        "id": "-GXhI1xqn176"
      },
      "execution_count": null,
      "outputs": []
    },
    {
      "cell_type": "code",
      "source": [
        "def calculate_accuracy2(model, data, labels):\n",
        "    predictions = model.predict(data)\n",
        "    accuracy = np.mean(predictions == labels)\n",
        "    return accuracy*100"
      ],
      "metadata": {
        "id": "p0LbcNVEtKBs"
      },
      "execution_count": null,
      "outputs": []
    },
    {
      "cell_type": "code",
      "source": [
        "print(\"2 percent good model : \")\n",
        "print(\"clean accuracy : \" + str(calculate_accuracy2(percent_2_good_model,clean_test_X,clean_test_Y)))\n",
        "print(\"attack success rate : \" + str(calculate_accuracy2(percent_2_good_model,bad_test_X,bad_test_Y)))\n",
        "print(\"\\n\")\n",
        "\n",
        "print(\"4 percent good model : \")\n",
        "print(\"clean accuracy : \" + str(calculate_accuracy2(percent_4_good_model,clean_test_X,clean_test_Y)))\n",
        "print(\"attack success rate : \" + str(calculate_accuracy2(percent_4_good_model,bad_test_X,bad_test_Y)))\n",
        "print(\"\\n\")\n",
        "\n",
        "print(\"10 percent good model : \")\n",
        "print(\"clean accuracy : \" + str(calculate_accuracy2(percent_10_good_model,clean_test_X,clean_test_Y)))\n",
        "print(\"attack success rate : \" + str(calculate_accuracy2(percent_10_good_model,bad_test_X,bad_test_Y)))"
      ],
      "metadata": {
        "colab": {
          "base_uri": "https://localhost:8080/"
        },
        "id": "HmZH8jrPlp_H",
        "outputId": "86bf5407-91ca-415e-82d0-e79a2fcaabbf"
      },
      "execution_count": null,
      "outputs": [
        {
          "output_type": "stream",
          "name": "stdout",
          "text": [
            "2 percent good model : \n",
            "401/401 [==============================] - 21s 51ms/step\n",
            "clean accuracy : 95.74434918160561\n",
            "401/401 [==============================] - 20s 49ms/step\n",
            "attack success rate : 100.0\n",
            "\n",
            "\n",
            "4 percent good model : \n",
            "401/401 [==============================] - 20s 49ms/step\n",
            "clean accuracy : 92.1278254091972\n",
            "401/401 [==============================] - 21s 53ms/step\n",
            "attack success rate : 99.98441153546376\n",
            "\n",
            "\n",
            "10 percent good model : \n",
            "401/401 [==============================] - 20s 49ms/step\n",
            "clean accuracy : 84.3335931410756\n",
            "401/401 [==============================] - 20s 49ms/step\n",
            "attack success rate : 77.20966484801247\n"
          ]
        }
      ]
    },
    {
      "cell_type": "code",
      "source": [],
      "metadata": {
        "id": "Ebl8fO2Stbp4"
      },
      "execution_count": null,
      "outputs": []
    }
  ]
}