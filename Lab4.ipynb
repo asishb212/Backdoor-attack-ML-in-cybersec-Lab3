{
  "nbformat": 4,
  "nbformat_minor": 0,
  "metadata": {
    "colab": {
      "provenance": []
    },
    "kernelspec": {
      "name": "python3",
      "display_name": "Python 3"
    },
    "language_info": {
      "name": "python"
    }
  },
  "cells": [
    {
      "cell_type": "markdown",
      "source": [
        "### Lab 4 : backdoor attacks\n",
        "### Asish Boggavarapu (ab10535)"
      ],
      "metadata": {
        "id": "Q9c7Ur1TN742"
      }
    },
    {
      "cell_type": "code",
      "source": [
        "from google.colab import drive\n",
        "drive.mount(\"/content/drive\")"
      ],
      "metadata": {
        "colab": {
          "base_uri": "https://localhost:8080/"
        },
        "id": "RETFh4OpOhYa",
        "outputId": "401f726f-770f-47ae-8a42-1caa2109b9a3"
      },
      "execution_count": null,
      "outputs": [
        {
          "output_type": "stream",
          "name": "stdout",
          "text": [
            "Mounted at /content/drive\n"
          ]
        }
      ]
    },
    {
      "cell_type": "code",
      "execution_count": null,
      "metadata": {
        "colab": {
          "base_uri": "https://localhost:8080/"
        },
        "id": "KICsoAExNzTW",
        "outputId": "b082cdba-c912-4c5a-e124-dd203073533f"
      },
      "outputs": [
        {
          "output_type": "stream",
          "name": "stdout",
          "text": [
            "Cloning into 'CSAW-HackML-2020'...\n",
            "remote: Enumerating objects: 220, done.\u001b[K\n",
            "remote: Counting objects: 100% (42/42), done.\u001b[K\n",
            "remote: Compressing objects: 100% (25/25), done.\u001b[K\n",
            "remote: Total 220 (delta 37), reused 17 (delta 17), pack-reused 178\u001b[K\n",
            "Receiving objects: 100% (220/220), 83.78 MiB | 23.27 MiB/s, done.\n",
            "Resolving deltas: 100% (83/83), done.\n"
          ]
        }
      ],
      "source": [
        "!git clone https://github.com/csaw-hackml/CSAW-HackML-2020"
      ]
    },
    {
      "cell_type": "markdown",
      "source": [
        "## Inputs"
      ],
      "metadata": {
        "id": "DK1acCYMOiMX"
      }
    },
    {
      "cell_type": "code",
      "source": [
        "# moving clean and bad validation and test data to \"data\" folder\n",
        "!mv /content/drive/MyDrive/Lab3/bd /content/CSAW-HackML-2020/lab3/data/\n",
        "!mv /content/drive/MyDrive/Lab3/cl /content/CSAW-HackML-2020/lab3/data/"
      ],
      "metadata": {
        "id": "8EXq5kaeYYH8"
      },
      "execution_count": null,
      "outputs": []
    },
    {
      "cell_type": "code",
      "source": [
        "# Bad net\n",
        "\n",
        "BNet_fp = \"/content/CSAW-HackML-2020/lab3/models/bd_net.h5\"\n",
        "BNet_weights_fp = \"/content/CSAW-HackML-2020/lab3/models/bd_weights.h5\""
      ],
      "metadata": {
        "id": "_XQTMoA0QHbx"
      },
      "execution_count": null,
      "outputs": []
    },
    {
      "cell_type": "code",
      "source": [
        "# Clean validation and test images\n",
        "\n",
        "clean_val_data_fp = \"/content/CSAW-HackML-2020/lab3/data/cl/valid.h5\"\n",
        "clean_test_data_fp = \"/content/CSAW-HackML-2020/lab3/data/cl/test.h5\""
      ],
      "metadata": {
        "id": "50lXy0xqZiXf"
      },
      "execution_count": null,
      "outputs": []
    },
    {
      "cell_type": "code",
      "source": [
        "# Bad validation and test images\n",
        "\n",
        "bad_val_data_fp = \"/content/CSAW-HackML-2020/lab3/data/bd/bd_valid.h5\"\n",
        "bad_test_data_fp = \"/content/CSAW-HackML-2020/lab3/data/bd/bd_test.h5\""
      ],
      "metadata": {
        "id": "8XD2Zgw8aFB1"
      },
      "execution_count": null,
      "outputs": []
    },
    {
      "cell_type": "markdown",
      "source": [
        "## Data loading"
      ],
      "metadata": {
        "id": "TFuynOTZbKUI"
      }
    },
    {
      "cell_type": "code",
      "source": [
        "import h5py\n",
        "import numpy as np"
      ],
      "metadata": {
        "id": "x9nVL0x9bGXu"
      },
      "execution_count": null,
      "outputs": []
    },
    {
      "cell_type": "code",
      "source": [
        "def data_loader(path):\n",
        "\n",
        "    data = h5py.File(path)\n",
        "\n",
        "    X = np.array(data[\"data\"])\n",
        "    X = X.transpose((0,2,3,1))\n",
        "\n",
        "    Y = np.array(data[\"label\"])\n",
        "\n",
        "    return X,Y"
      ],
      "metadata": {
        "id": "_5QLXSlTOOKR"
      },
      "execution_count": null,
      "outputs": []
    },
    {
      "cell_type": "code",
      "source": [
        "clean_val_X,clean_val_Y = data_loader(clean_val_data_fp)\n",
        "bad_val_X,bad_val_Y = data_loader(bad_val_data_fp)"
      ],
      "metadata": {
        "id": "S5uGWTUySK2S"
      },
      "execution_count": null,
      "outputs": []
    },
    {
      "cell_type": "markdown",
      "source": [
        "## Model loading"
      ],
      "metadata": {
        "id": "DELLx2v-VVIG"
      }
    },
    {
      "cell_type": "code",
      "source": [
        "import tensorflow as tf\n",
        "from tensorflow.keras.models import load_model\n",
        "from tensorflow.keras.layers import Layer"
      ],
      "metadata": {
        "id": "JvnKmliIVlSS"
      },
      "execution_count": null,
      "outputs": []
    },
    {
      "cell_type": "code",
      "source": [
        "badnet_org = load_model(BNet_fp)"
      ],
      "metadata": {
        "id": "gnpN2hkKVUB9"
      },
      "execution_count": null,
      "outputs": []
    },
    {
      "cell_type": "code",
      "source": [
        "badnet_org.summary()"
      ],
      "metadata": {
        "colab": {
          "base_uri": "https://localhost:8080/"
        },
        "id": "TzvmobJ0cnEz",
        "outputId": "1c673366-91f0-405d-8580-b91d4a559bd5"
      },
      "execution_count": null,
      "outputs": [
        {
          "output_type": "stream",
          "name": "stdout",
          "text": [
            "Model: \"model_1\"\n",
            "__________________________________________________________________________________________________\n",
            " Layer (type)                Output Shape                 Param #   Connected to                  \n",
            "==================================================================================================\n",
            " input (InputLayer)          [(None, 55, 47, 3)]          0         []                            \n",
            "                                                                                                  \n",
            " conv_1 (Conv2D)             (None, 52, 44, 20)           980       ['input[0][0]']               \n",
            "                                                                                                  \n",
            " pool_1 (MaxPooling2D)       (None, 26, 22, 20)           0         ['conv_1[0][0]']              \n",
            "                                                                                                  \n",
            " conv_2 (Conv2D)             (None, 24, 20, 40)           7240      ['pool_1[0][0]']              \n",
            "                                                                                                  \n",
            " pool_2 (MaxPooling2D)       (None, 12, 10, 40)           0         ['conv_2[0][0]']              \n",
            "                                                                                                  \n",
            " conv_3 (Conv2D)             (None, 10, 8, 60)            21660     ['pool_2[0][0]']              \n",
            "                                                                                                  \n",
            " pool_3 (MaxPooling2D)       (None, 5, 4, 60)             0         ['conv_3[0][0]']              \n",
            "                                                                                                  \n",
            " conv_4 (Conv2D)             (None, 4, 3, 80)             19280     ['pool_3[0][0]']              \n",
            "                                                                                                  \n",
            " flatten_1 (Flatten)         (None, 1200)                 0         ['pool_3[0][0]']              \n",
            "                                                                                                  \n",
            " flatten_2 (Flatten)         (None, 960)                  0         ['conv_4[0][0]']              \n",
            "                                                                                                  \n",
            " fc_1 (Dense)                (None, 160)                  192160    ['flatten_1[0][0]']           \n",
            "                                                                                                  \n",
            " fc_2 (Dense)                (None, 160)                  153760    ['flatten_2[0][0]']           \n",
            "                                                                                                  \n",
            " add_1 (Add)                 (None, 160)                  0         ['fc_1[0][0]',                \n",
            "                                                                     'fc_2[0][0]']                \n",
            "                                                                                                  \n",
            " activation_1 (Activation)   (None, 160)                  0         ['add_1[0][0]']               \n",
            "                                                                                                  \n",
            " output (Dense)              (None, 1283)                 206563    ['activation_1[0][0]']        \n",
            "                                                                                                  \n",
            "==================================================================================================\n",
            "Total params: 601643 (2.30 MB)\n",
            "Trainable params: 601643 (2.30 MB)\n",
            "Non-trainable params: 0 (0.00 Byte)\n",
            "__________________________________________________________________________________________________\n"
          ]
        }
      ]
    },
    {
      "cell_type": "code",
      "source": [
        "def calculate_accuracy(model, data, labels):\n",
        "    predictions = model.predict(data,verbose=0)\n",
        "    predicted_classes = np.argmax(predictions, axis=1)\n",
        "    accuracy = np.mean(predicted_classes == labels)\n",
        "    return accuracy*100"
      ],
      "metadata": {
        "id": "Purfye0kJStk"
      },
      "execution_count": null,
      "outputs": []
    },
    {
      "cell_type": "code",
      "source": [
        "original_accuracy = calculate_accuracy(badnet_org, clean_val_X, clean_val_Y)\n",
        "original_accuracy"
      ],
      "metadata": {
        "colab": {
          "base_uri": "https://localhost:8080/"
        },
        "id": "BrHBAlTrJYjl",
        "outputId": "6e0b05ab-da95-4995-b2d4-1b95e4546e0b"
      },
      "execution_count": null,
      "outputs": [
        {
          "output_type": "execute_result",
          "data": {
            "text/plain": [
              "98.64899974019225"
            ]
          },
          "metadata": {},
          "execution_count": 11
        }
      ]
    },
    {
      "cell_type": "markdown",
      "source": [
        "## Model pruning"
      ],
      "metadata": {
        "id": "i5CD5mgdFVa_"
      }
    },
    {
      "cell_type": "code",
      "source": [
        "from tensorflow.keras.models import Model,clone_model"
      ],
      "metadata": {
        "id": "EDAa3mQtFVMw"
      },
      "execution_count": null,
      "outputs": []
    },
    {
      "cell_type": "code",
      "source": [
        "# makeing a copy of badnet\n",
        "\n",
        "badnet = clone_model(badnet_org)\n",
        "badnet.set_weights(badnet_org.get_weights())"
      ],
      "metadata": {
        "id": "mPMkyq40XDkC"
      },
      "execution_count": null,
      "outputs": []
    },
    {
      "cell_type": "code",
      "source": [
        "# Create a model to access the activations of the \"pool_3\" layer\n",
        "intermediate_model = Model(inputs=badnet.input, outputs=badnet.get_layer(\"pool_3\").output)\n",
        "\n",
        "# Forward pass to collect activations\n",
        "activations = intermediate_model.predict(clean_val_X,verbose=0)\n",
        "\n",
        "# Compute the average activation for each channel\n",
        "average_activations = np.mean(activations, axis=(0, 1, 2))\n",
        "\n",
        "# Sort channels by average activation\n",
        "sorted_channels = np.argsort(average_activations)\n",
        "print(sorted_channels)"
      ],
      "metadata": {
        "id": "sbsidzNA_Kle",
        "colab": {
          "base_uri": "https://localhost:8080/"
        },
        "outputId": "9fdeebe9-1544-4fa2-c209-d4c0eb4c641d"
      },
      "execution_count": null,
      "outputs": [
        {
          "output_type": "stream",
          "name": "stdout",
          "text": [
            "[ 0 26 27 30 31 33 34 36 37 38 25 39 41 44 45 47 48 49 50 53 55 40 24 59\n",
            "  9  2 12 13 17 14 15 23  6 51 32 22 21 20 19 43 58  3 42  1 29 16 56 46\n",
            "  5  8 11 54 10 28 35 18  4  7 52 57]\n"
          ]
        }
      ]
    },
    {
      "cell_type": "code",
      "source": [
        "accuracy_drop_thresholds = [2,4,10]  # accuracy drop threshold\n",
        "\n",
        "flags = [False,False,False]\n",
        "\n",
        "total_channels = sorted_channels.shape[0]\n",
        "\n",
        "total_channels"
      ],
      "metadata": {
        "colab": {
          "base_uri": "https://localhost:8080/"
        },
        "id": "8rP_qt4SvYny",
        "outputId": "4fed4e1c-93d9-4653-da0b-9edfd6174e82"
      },
      "execution_count": null,
      "outputs": [
        {
          "output_type": "execute_result",
          "data": {
            "text/plain": [
              "60"
            ]
          },
          "metadata": {},
          "execution_count": 22
        }
      ]
    },
    {
      "cell_type": "code",
      "source": [
        "pool_layer_weights = badnet.get_layer(\"conv_3\").get_weights()\n",
        "w = pool_layer_weights[0]\n",
        "b = pool_layer_weights[1]\n",
        "\n",
        "acc_after_each_prune = {}\n",
        "attack_success_rates = {}\n",
        "\n",
        "c = 1\n",
        "\n",
        "for channel_index in sorted_channels:\n",
        "\n",
        "    print(\"Channels pruned : \"+str(c)+\"/\"+str(total_channels))\n",
        "\n",
        "    # Zero out the weights of the specified channel in \"pool_3\" layer\n",
        "\n",
        "    w[:, :, :, channel_index] = 0\n",
        "    b[channel_index] = 0\n",
        "    badnet.get_layer(\"conv_3\").set_weights([w,b])\n",
        "\n",
        "    # Calculate accuracy\n",
        "\n",
        "    pruned_accuracy = calculate_accuracy(badnet, clean_val_X, clean_val_Y)\n",
        "\n",
        "    acc_after_each_prune[channel_index] = pruned_accuracy\n",
        "\n",
        "    print(\"channel index : \"+str(channel_index))\n",
        "    print(\"clean accuracy : \"+str(pruned_accuracy))\n",
        "    print(\"change in accuracy : \"+str((original_accuracy - pruned_accuracy)))\n",
        "\n",
        "    # Check if the accuracy drop is beyond the threshold\n",
        "    if original_accuracy - pruned_accuracy >= accuracy_drop_thresholds[0] and not flags[0]:\n",
        "        badnet.save('2_percent.h5')\n",
        "        flags[0] = True\n",
        "\n",
        "    if original_accuracy - pruned_accuracy >= accuracy_drop_thresholds[1] and not flags[1]:\n",
        "        badnet.save('4_percent.h5')\n",
        "        flags[1] = True\n",
        "\n",
        "    if original_accuracy - pruned_accuracy >= accuracy_drop_thresholds[2] and not flags[2]:\n",
        "        badnet.save('10_percent.h5')\n",
        "        flags[2] = True\n",
        "\n",
        "    # attack success rate using bad valid data\n",
        "    attack_success_rate = calculate_accuracy(badnet, bad_val_X, bad_val_Y)\n",
        "    attack_success_rates[channel_index] = attack_success_rate\n",
        "    print(\"attack success rate : \"+str(attack_success_rate))\n",
        "    c += 1\n",
        "\n",
        "    print(\"\\n\")\n",
        "\n",
        "    if c==60:\n",
        "        print(\"====COMPLETED====\")\n",
        "        badnet.save('last.h5')\n",
        "\n"
      ],
      "metadata": {
        "id": "Ly2r5ydfKR6v",
        "colab": {
          "base_uri": "https://localhost:8080/"
        },
        "outputId": "a28ad414-639e-4438-c1f8-9c47f8e3ccce"
      },
      "execution_count": null,
      "outputs": [
        {
          "output_type": "stream",
          "name": "stdout",
          "text": [
            "Channels pruned : 1/60\n",
            "channel index : 0\n",
            "clean accuracy : 98.64899974019225\n",
            "change in accuracy : 0.0\n",
            "attack success rate : 100.0\n",
            "\n",
            "\n",
            "Channels pruned : 2/60\n",
            "channel index : 26\n",
            "clean accuracy : 98.64899974019225\n",
            "change in accuracy : 0.0\n",
            "attack success rate : 100.0\n",
            "\n",
            "\n",
            "Channels pruned : 3/60\n",
            "channel index : 27\n",
            "clean accuracy : 98.64899974019225\n",
            "change in accuracy : 0.0\n",
            "attack success rate : 100.0\n",
            "\n",
            "\n",
            "Channels pruned : 4/60\n",
            "channel index : 30\n",
            "clean accuracy : 98.64899974019225\n",
            "change in accuracy : 0.0\n",
            "attack success rate : 100.0\n",
            "\n",
            "\n",
            "Channels pruned : 5/60\n",
            "channel index : 31\n",
            "clean accuracy : 98.64899974019225\n",
            "change in accuracy : 0.0\n",
            "attack success rate : 100.0\n",
            "\n",
            "\n",
            "Channels pruned : 6/60\n",
            "channel index : 33\n",
            "clean accuracy : 98.64899974019225\n",
            "change in accuracy : 0.0\n",
            "attack success rate : 100.0\n",
            "\n",
            "\n",
            "Channels pruned : 7/60\n",
            "channel index : 34\n",
            "clean accuracy : 98.64899974019225\n",
            "change in accuracy : 0.0\n",
            "attack success rate : 100.0\n",
            "\n",
            "\n",
            "Channels pruned : 8/60\n",
            "channel index : 36\n",
            "clean accuracy : 98.64899974019225\n",
            "change in accuracy : 0.0\n",
            "attack success rate : 100.0\n",
            "\n",
            "\n",
            "Channels pruned : 9/60\n",
            "channel index : 37\n",
            "clean accuracy : 98.64899974019225\n",
            "change in accuracy : 0.0\n",
            "attack success rate : 100.0\n",
            "\n",
            "\n",
            "Channels pruned : 10/60\n",
            "channel index : 38\n",
            "clean accuracy : 98.64899974019225\n",
            "change in accuracy : 0.0\n",
            "attack success rate : 100.0\n",
            "\n",
            "\n",
            "Channels pruned : 11/60\n",
            "channel index : 25\n",
            "clean accuracy : 98.64899974019225\n",
            "change in accuracy : 0.0\n",
            "attack success rate : 100.0\n",
            "\n",
            "\n",
            "Channels pruned : 12/60\n",
            "channel index : 39\n",
            "clean accuracy : 98.64899974019225\n",
            "change in accuracy : 0.0\n",
            "attack success rate : 100.0\n",
            "\n",
            "\n",
            "Channels pruned : 13/60\n",
            "channel index : 41\n",
            "clean accuracy : 98.64899974019225\n",
            "change in accuracy : 0.0\n",
            "attack success rate : 100.0\n",
            "\n",
            "\n",
            "Channels pruned : 14/60\n",
            "channel index : 44\n",
            "clean accuracy : 98.64899974019225\n",
            "change in accuracy : 0.0\n",
            "attack success rate : 100.0\n",
            "\n",
            "\n",
            "Channels pruned : 15/60\n",
            "channel index : 45\n",
            "clean accuracy : 98.64899974019225\n",
            "change in accuracy : 0.0\n",
            "attack success rate : 100.0\n",
            "\n",
            "\n",
            "Channels pruned : 16/60\n",
            "channel index : 47\n",
            "clean accuracy : 98.64899974019225\n",
            "change in accuracy : 0.0\n",
            "attack success rate : 100.0\n",
            "\n",
            "\n",
            "Channels pruned : 17/60\n",
            "channel index : 48\n",
            "clean accuracy : 98.64899974019225\n",
            "change in accuracy : 0.0\n",
            "attack success rate : 100.0\n",
            "\n",
            "\n",
            "Channels pruned : 18/60\n",
            "channel index : 49\n",
            "clean accuracy : 98.64899974019225\n",
            "change in accuracy : 0.0\n",
            "attack success rate : 100.0\n",
            "\n",
            "\n",
            "Channels pruned : 19/60\n",
            "channel index : 50\n",
            "clean accuracy : 98.64899974019225\n",
            "change in accuracy : 0.0\n",
            "attack success rate : 100.0\n",
            "\n",
            "\n",
            "Channels pruned : 20/60\n",
            "channel index : 53\n",
            "clean accuracy : 98.64899974019225\n",
            "change in accuracy : 0.0\n",
            "attack success rate : 100.0\n",
            "\n",
            "\n",
            "Channels pruned : 21/60\n",
            "channel index : 55\n",
            "clean accuracy : 98.64899974019225\n",
            "change in accuracy : 0.0\n",
            "attack success rate : 100.0\n",
            "\n",
            "\n",
            "Channels pruned : 22/60\n",
            "channel index : 40\n",
            "clean accuracy : 98.64899974019225\n",
            "change in accuracy : 0.0\n",
            "attack success rate : 100.0\n",
            "\n",
            "\n",
            "Channels pruned : 23/60\n",
            "channel index : 24\n",
            "clean accuracy : 98.64899974019225\n",
            "change in accuracy : 0.0\n",
            "attack success rate : 100.0\n",
            "\n",
            "\n",
            "Channels pruned : 24/60\n",
            "channel index : 59\n",
            "clean accuracy : 98.64899974019225\n",
            "change in accuracy : 0.0\n",
            "attack success rate : 100.0\n",
            "\n",
            "\n",
            "Channels pruned : 25/60\n",
            "channel index : 9\n",
            "clean accuracy : 98.64899974019225\n",
            "change in accuracy : 0.0\n",
            "attack success rate : 100.0\n",
            "\n",
            "\n",
            "Channels pruned : 26/60\n",
            "channel index : 2\n",
            "clean accuracy : 98.64899974019225\n",
            "change in accuracy : 0.0\n",
            "attack success rate : 100.0\n",
            "\n",
            "\n",
            "Channels pruned : 27/60\n",
            "channel index : 12\n",
            "clean accuracy : 98.64899974019225\n",
            "change in accuracy : 0.0\n",
            "attack success rate : 100.0\n",
            "\n",
            "\n",
            "Channels pruned : 28/60\n",
            "channel index : 13\n",
            "clean accuracy : 98.64899974019225\n",
            "change in accuracy : 0.0\n",
            "attack success rate : 100.0\n",
            "\n",
            "\n",
            "Channels pruned : 29/60\n",
            "channel index : 17\n",
            "clean accuracy : 98.64899974019225\n",
            "change in accuracy : 0.0\n",
            "attack success rate : 100.0\n",
            "\n",
            "\n",
            "Channels pruned : 30/60\n",
            "channel index : 14\n",
            "clean accuracy : 98.64899974019225\n",
            "change in accuracy : 0.0\n",
            "attack success rate : 100.0\n",
            "\n",
            "\n",
            "Channels pruned : 31/60\n",
            "channel index : 15\n",
            "clean accuracy : 98.64899974019225\n",
            "change in accuracy : 0.0\n",
            "attack success rate : 100.0\n",
            "\n",
            "\n",
            "Channels pruned : 32/60\n",
            "channel index : 23\n",
            "clean accuracy : 98.64899974019225\n",
            "change in accuracy : 0.0\n",
            "attack success rate : 100.0\n",
            "\n",
            "\n",
            "Channels pruned : 33/60\n",
            "channel index : 6\n",
            "clean accuracy : 98.64899974019225\n",
            "change in accuracy : 0.0\n",
            "attack success rate : 100.0\n",
            "\n",
            "\n",
            "Channels pruned : 34/60\n",
            "channel index : 51\n",
            "clean accuracy : 98.64033948211657\n",
            "change in accuracy : 0.00866025807567894\n",
            "attack success rate : 100.0\n",
            "\n",
            "\n",
            "Channels pruned : 35/60\n",
            "channel index : 32\n",
            "clean accuracy : 98.64033948211657\n",
            "change in accuracy : 0.00866025807567894\n",
            "attack success rate : 100.0\n",
            "\n",
            "\n",
            "Channels pruned : 36/60\n",
            "channel index : 22\n",
            "clean accuracy : 98.63167922404088\n",
            "change in accuracy : 0.01732051615137209\n",
            "attack success rate : 100.0\n",
            "\n",
            "\n",
            "Channels pruned : 37/60\n",
            "channel index : 21\n",
            "clean accuracy : 98.65765999826795\n",
            "change in accuracy : -0.00866025807569315\n",
            "attack success rate : 100.0\n",
            "\n",
            "\n",
            "Channels pruned : 38/60\n",
            "channel index : 20\n",
            "clean accuracy : 98.64899974019225\n",
            "change in accuracy : 0.0\n",
            "attack success rate : 100.0\n",
            "\n",
            "\n",
            "Channels pruned : 39/60\n",
            "channel index : 19\n",
            "clean accuracy : 98.6056984498138\n",
            "change in accuracy : 0.04330129037845154\n",
            "attack success rate : 100.0\n",
            "\n",
            "\n",
            "Channels pruned : 40/60\n",
            "channel index : 43\n",
            "clean accuracy : 98.57105741751104\n",
            "change in accuracy : 0.07794232268120993\n",
            "attack success rate : 100.0\n",
            "\n",
            "\n",
            "Channels pruned : 41/60\n",
            "channel index : 58\n",
            "clean accuracy : 98.53641638520828\n",
            "change in accuracy : 0.11258335498396832\n",
            "attack success rate : 100.0\n",
            "\n",
            "\n",
            "Channels pruned : 42/60\n",
            "channel index : 3\n",
            "clean accuracy : 98.19000606218066\n",
            "change in accuracy : 0.45899367801159485\n",
            "attack success rate : 100.0\n",
            "\n",
            "\n",
            "Channels pruned : 43/60\n",
            "channel index : 42\n",
            "clean accuracy : 97.65307006148784\n",
            "change in accuracy : 0.9959296787044138\n",
            "attack success rate : 100.0\n",
            "\n",
            "\n",
            "Channels pruned : 44/60\n",
            "channel index : 1\n",
            "clean accuracy : 97.50584567420108\n",
            "change in accuracy : 1.143154065991169\n",
            "attack success rate : 100.0\n",
            "\n",
            "\n",
            "Channels pruned : 45/60\n"
          ]
        },
        {
          "output_type": "stream",
          "name": "stderr",
          "text": [
            "/usr/local/lib/python3.10/dist-packages/keras/src/engine/training.py:3079: UserWarning: You are saving your model as an HDF5 file via `model.save()`. This file format is considered legacy. We recommend using instead the native Keras format, e.g. `model.save('my_model.keras')`.\n",
            "  saving_api.save_model(\n",
            "WARNING:tensorflow:Compiled the loaded model, but the compiled metrics have yet to be built. `model.compile_metrics` will be empty until you train or evaluate the model.\n"
          ]
        },
        {
          "output_type": "stream",
          "name": "stdout",
          "text": [
            "channel index : 29\n",
            "clean accuracy : 95.75647354291158\n",
            "change in accuracy : 2.8925261972806737\n",
            "attack success rate : 100.0\n",
            "\n",
            "\n",
            "Channels pruned : 46/60\n",
            "channel index : 16\n",
            "clean accuracy : 95.20221702606739\n",
            "change in accuracy : 3.446782714124865\n",
            "attack success rate : 99.9913397419243\n",
            "\n",
            "\n",
            "Channels pruned : 47/60\n",
            "channel index : 56\n",
            "clean accuracy : 94.7172425738287\n",
            "change in accuracy : 3.9317571663635533\n",
            "attack success rate : 99.9913397419243\n",
            "\n",
            "\n",
            "Channels pruned : 48/60\n"
          ]
        },
        {
          "output_type": "stream",
          "name": "stderr",
          "text": [
            "WARNING:tensorflow:Compiled the loaded model, but the compiled metrics have yet to be built. `model.compile_metrics` will be empty until you train or evaluate the model.\n"
          ]
        },
        {
          "output_type": "stream",
          "name": "stdout",
          "text": [
            "channel index : 46\n",
            "clean accuracy : 92.09318437689443\n",
            "change in accuracy : 6.555815363297825\n",
            "attack success rate : 99.9913397419243\n",
            "\n",
            "\n",
            "Channels pruned : 49/60\n",
            "channel index : 5\n",
            "clean accuracy : 91.49562656967177\n",
            "change in accuracy : 7.1533731705204815\n",
            "attack success rate : 99.9913397419243\n",
            "\n",
            "\n",
            "Channels pruned : 50/60\n",
            "channel index : 8\n",
            "clean accuracy : 91.01931237550879\n",
            "change in accuracy : 7.629687364683463\n",
            "attack success rate : 99.98267948384861\n",
            "\n",
            "\n",
            "Channels pruned : 51/60\n",
            "channel index : 11\n",
            "clean accuracy : 89.17467740538669\n",
            "change in accuracy : 9.474322334805564\n",
            "attack success rate : 80.73958603966398\n",
            "\n",
            "\n",
            "Channels pruned : 52/60\n"
          ]
        },
        {
          "output_type": "stream",
          "name": "stderr",
          "text": [
            "WARNING:tensorflow:Compiled the loaded model, but the compiled metrics have yet to be built. `model.compile_metrics` will be empty until you train or evaluate the model.\n"
          ]
        },
        {
          "output_type": "stream",
          "name": "stdout",
          "text": [
            "channel index : 54\n",
            "clean accuracy : 84.43751623798389\n",
            "change in accuracy : 14.211483502208367\n",
            "attack success rate : 77.015675067117\n",
            "\n",
            "\n",
            "Channels pruned : 53/60\n",
            "channel index : 10\n",
            "clean accuracy : 76.48739932449988\n",
            "change in accuracy : 22.161600415692376\n",
            "attack success rate : 35.71490430414826\n",
            "\n",
            "\n",
            "Channels pruned : 54/60\n",
            "channel index : 28\n",
            "clean accuracy : 54.8627349095003\n",
            "change in accuracy : 43.786264830691955\n",
            "attack success rate : 6.954187234779596\n",
            "\n",
            "\n",
            "Channels pruned : 55/60\n",
            "channel index : 35\n",
            "clean accuracy : 27.08928726076037\n",
            "change in accuracy : 71.55971247943188\n",
            "attack success rate : 0.4243526457088421\n",
            "\n",
            "\n",
            "Channels pruned : 56/60\n",
            "channel index : 18\n",
            "clean accuracy : 13.87373343725643\n",
            "change in accuracy : 84.77526630293582\n",
            "attack success rate : 0.0\n",
            "\n",
            "\n",
            "Channels pruned : 57/60\n",
            "channel index : 4\n",
            "clean accuracy : 7.101411622066338\n",
            "change in accuracy : 91.54758811812592\n",
            "attack success rate : 0.0\n",
            "\n",
            "\n",
            "Channels pruned : 58/60\n",
            "channel index : 7\n",
            "clean accuracy : 1.5501861955486274\n",
            "change in accuracy : 97.09881354464362\n",
            "attack success rate : 0.0\n",
            "\n",
            "\n",
            "Channels pruned : 59/60\n",
            "channel index : 52\n",
            "clean accuracy : 0.7188014202823244\n",
            "change in accuracy : 97.93019831990993\n"
          ]
        },
        {
          "output_type": "stream",
          "name": "stderr",
          "text": [
            "WARNING:tensorflow:Compiled the loaded model, but the compiled metrics have yet to be built. `model.compile_metrics` will be empty until you train or evaluate the model.\n"
          ]
        },
        {
          "output_type": "stream",
          "name": "stdout",
          "text": [
            "attack success rate : 0.0\n",
            "\n",
            "\n",
            "====COMPLETED====\n",
            "Channels pruned : 60/60\n",
            "channel index : 57\n",
            "clean accuracy : 0.0779423226812159\n",
            "change in accuracy : 98.57105741751104\n",
            "attack success rate : 0.0\n",
            "\n",
            "\n"
          ]
        }
      ]
    },
    {
      "cell_type": "markdown",
      "source": [
        "## save logs"
      ],
      "metadata": {
        "id": "c7xPYGcZdaXo"
      }
    },
    {
      "cell_type": "code",
      "source": [
        "import pandas as pd"
      ],
      "metadata": {
        "id": "0pAbzUineHvm"
      },
      "execution_count": null,
      "outputs": []
    },
    {
      "cell_type": "code",
      "source": [
        "df_acc_after_each_prune = pd.DataFrame({\"channel_idx\":acc_after_each_prune.keys(),\"acc\":acc_after_each_prune.values()})\n",
        "#df_acc_after_each_prune"
      ],
      "metadata": {
        "id": "Rfsg6XbadfOk"
      },
      "execution_count": null,
      "outputs": []
    },
    {
      "cell_type": "code",
      "source": [
        "df_attack_success_rates = pd.DataFrame({\"channel_idx\":attack_success_rates.keys(),\"acc\":attack_success_rates.values()})\n",
        "#df_attack_success_rates"
      ],
      "metadata": {
        "id": "cKC0cQtWfAIs"
      },
      "execution_count": null,
      "outputs": []
    },
    {
      "cell_type": "code",
      "source": [
        "df_acc_after_each_prune.to_csv('/content/df_acc_after_each_prune.csv', index=False)\n",
        "df_attack_success_rates.to_csv('/content/df_attack_success_rates.csv', index=False)"
      ],
      "metadata": {
        "id": "yTryYysRfShD"
      },
      "execution_count": null,
      "outputs": []
    },
    {
      "cell_type": "code",
      "source": [
        "!mv /content/df_acc_after_each_prune.csv /content/drive/MyDrive/mycyb-lab3-models/\n",
        "!mv /content/df_attack_success_rates.csv /content/drive/MyDrive/mycyb-lab3-models/"
      ],
      "metadata": {
        "id": "lHsrNL9-fkkQ"
      },
      "execution_count": null,
      "outputs": []
    },
    {
      "cell_type": "code",
      "source": [
        "!mv /content/2_percent.h5 /content/drive/MyDrive/mycyb-lab3-models/\n",
        "!mv /content/4_percent.h5 /content/drive/MyDrive/mycyb-lab3-models/\n",
        "!mv /content/10_percent.h5 /content/drive/MyDrive/mycyb-lab3-models/"
      ],
      "metadata": {
        "id": "EM1WU88GbVpp"
      },
      "execution_count": null,
      "outputs": []
    },
    {
      "cell_type": "markdown",
      "source": [
        "## evaluate against test dataset"
      ],
      "metadata": {
        "id": "4HPC_4JyraLD"
      }
    },
    {
      "cell_type": "code",
      "source": [
        "clean_test_X,clean_test_Y = data_loader(\"/content/CSAW-HackML-2020/lab3/data/cl/test.h5\")\n",
        "bad_test_X,bad_test_Y = data_loader(\"/content/CSAW-HackML-2020/lab3/data/bd/bd_test.h5\")"
      ],
      "metadata": {
        "id": "w23kXxq4ri-z"
      },
      "execution_count": null,
      "outputs": []
    },
    {
      "cell_type": "code",
      "source": [
        "percent_2_model_fp = \"/content/drive/MyDrive/mycyb-lab3-models/2_percent.h5\"\n",
        "percent_4_model_fp = \"/content/drive/MyDrive/mycyb-lab3-models/4_percent.h5\"\n",
        "percent_10_model_fp = \"/content/drive/MyDrive/mycyb-lab3-models/10_percent.h5\""
      ],
      "metadata": {
        "id": "ZBhlSZbqpgAJ"
      },
      "execution_count": null,
      "outputs": []
    },
    {
      "cell_type": "code",
      "source": [
        "percent_2_model = load_model(percent_2_model_fp)\n",
        "percent_4_model = load_model(percent_4_model_fp)\n",
        "percent_10_model = load_model(percent_10_model_fp)"
      ],
      "metadata": {
        "id": "wNIukBdQpf9Y",
        "colab": {
          "base_uri": "https://localhost:8080/"
        },
        "outputId": "1e5c3b0f-36d2-4b59-907d-21625552f8a1"
      },
      "execution_count": null,
      "outputs": [
        {
          "output_type": "stream",
          "name": "stderr",
          "text": [
            "WARNING:tensorflow:No training configuration found in the save file, so the model was *not* compiled. Compile it manually.\n",
            "WARNING:tensorflow:No training configuration found in the save file, so the model was *not* compiled. Compile it manually.\n",
            "WARNING:tensorflow:No training configuration found in the save file, so the model was *not* compiled. Compile it manually.\n"
          ]
        }
      ]
    },
    {
      "cell_type": "code",
      "source": [
        "print(\"2 percent model : \")\n",
        "print(\"clean accuracy : \" + str(calculate_accuracy(percent_2_model,clean_test_X,clean_test_Y)))\n",
        "print(\"attack success rate : \" + str(calculate_accuracy(percent_2_model,bad_test_X,bad_test_Y)))\n",
        "print(\"\\n\")\n",
        "\n",
        "print(\"4 percent model : \")\n",
        "print(\"clean accuracy : \" + str(calculate_accuracy(percent_4_model,clean_test_X,clean_test_Y)))\n",
        "print(\"attack success rate : \" + str(calculate_accuracy(percent_4_model,bad_test_X,bad_test_Y)))\n",
        "print(\"\\n\")\n",
        "\n",
        "print(\"10 percent model : \")\n",
        "print(\"clean accuracy : \" + str(calculate_accuracy(percent_10_model,clean_test_X,clean_test_Y)))\n",
        "print(\"attack success rate : \" + str(calculate_accuracy(percent_10_model,bad_test_X,bad_test_Y)))"
      ],
      "metadata": {
        "colab": {
          "base_uri": "https://localhost:8080/"
        },
        "id": "TD6_yIyQri8E",
        "outputId": "d995c196-b4f2-48b6-d522-65a21c1c5340"
      },
      "execution_count": null,
      "outputs": [
        {
          "output_type": "stream",
          "name": "stdout",
          "text": [
            "2 percent model : \n",
            "clean accuracy : 95.90023382696803\n",
            "attack success rate : 100.0\n",
            "\n",
            "\n",
            "4 percent model : \n",
            "clean accuracy : 92.29150428682775\n",
            "attack success rate : 99.98441153546376\n",
            "\n",
            "\n",
            "10 percent model : \n",
            "clean accuracy : 84.54403741231489\n",
            "attack success rate : 77.20966484801247\n"
          ]
        }
      ]
    },
    {
      "cell_type": "markdown",
      "source": [
        "## evaluate using eval.py"
      ],
      "metadata": {
        "id": "Pjs9T4Nsgn1b"
      }
    },
    {
      "cell_type": "code",
      "source": [
        "!python /content/CSAW-HackML-2020/lab3/eval.py /content/CSAW-HackML-2020/lab3/data/cl/test.h5 /content/CSAW-HackML-2020/lab3/data/bd/bd_test.h5 /content/drive/MyDrive/mycyb-lab3-models/2_percent.h5"
      ],
      "metadata": {
        "colab": {
          "base_uri": "https://localhost:8080/"
        },
        "id": "cio8z_B1f8U9",
        "outputId": "8efbba2c-7c42-4d11-e32d-abe84a945db1"
      },
      "execution_count": null,
      "outputs": [
        {
          "output_type": "stream",
          "name": "stdout",
          "text": [
            "2023-11-26 07:26:22.394250: E tensorflow/compiler/xla/stream_executor/cuda/cuda_dnn.cc:9342] Unable to register cuDNN factory: Attempting to register factory for plugin cuDNN when one has already been registered\n",
            "2023-11-26 07:26:22.394360: E tensorflow/compiler/xla/stream_executor/cuda/cuda_fft.cc:609] Unable to register cuFFT factory: Attempting to register factory for plugin cuFFT when one has already been registered\n",
            "2023-11-26 07:26:22.394511: E tensorflow/compiler/xla/stream_executor/cuda/cuda_blas.cc:1518] Unable to register cuBLAS factory: Attempting to register factory for plugin cuBLAS when one has already been registered\n",
            "2023-11-26 07:26:24.508686: W tensorflow/compiler/tf2tensorrt/utils/py_utils.cc:38] TF-TRT Warning: Could not find TensorRT\n",
            "WARNING:tensorflow:No training configuration found in the save file, so the model was *not* compiled. Compile it manually.\n",
            "401/401 [==============================] - 9s 21ms/step\n",
            "Clean Classification accuracy: 95.90023382696803\n",
            "401/401 [==============================] - 10s 24ms/step\n",
            "Attack Success Rate: 100.0\n"
          ]
        }
      ]
    },
    {
      "cell_type": "code",
      "source": [
        "!python /content/CSAW-HackML-2020/lab3/eval.py /content/CSAW-HackML-2020/lab3/data/cl/test.h5 /content/CSAW-HackML-2020/lab3/data/bd/bd_test.h5 /content/drive/MyDrive/mycyb-lab3-models/4_percent.h5"
      ],
      "metadata": {
        "colab": {
          "base_uri": "https://localhost:8080/"
        },
        "id": "F2N8PJtPhczi",
        "outputId": "32ff3e74-5e39-4ff5-e2ad-499d8588b633"
      },
      "execution_count": null,
      "outputs": [
        {
          "output_type": "stream",
          "name": "stdout",
          "text": [
            "2023-11-26 07:27:01.874827: E tensorflow/compiler/xla/stream_executor/cuda/cuda_dnn.cc:9342] Unable to register cuDNN factory: Attempting to register factory for plugin cuDNN when one has already been registered\n",
            "2023-11-26 07:27:01.874887: E tensorflow/compiler/xla/stream_executor/cuda/cuda_fft.cc:609] Unable to register cuFFT factory: Attempting to register factory for plugin cuFFT when one has already been registered\n",
            "2023-11-26 07:27:01.874931: E tensorflow/compiler/xla/stream_executor/cuda/cuda_blas.cc:1518] Unable to register cuBLAS factory: Attempting to register factory for plugin cuBLAS when one has already been registered\n",
            "2023-11-26 07:27:03.859787: W tensorflow/compiler/tf2tensorrt/utils/py_utils.cc:38] TF-TRT Warning: Could not find TensorRT\n",
            "WARNING:tensorflow:No training configuration found in the save file, so the model was *not* compiled. Compile it manually.\n",
            "401/401 [==============================] - 9s 22ms/step\n",
            "Clean Classification accuracy: 92.29150428682775\n",
            "401/401 [==============================] - 9s 21ms/step\n",
            "Attack Success Rate: 99.98441153546376\n"
          ]
        }
      ]
    },
    {
      "cell_type": "code",
      "source": [
        "!python /content/CSAW-HackML-2020/lab3/eval.py /content/CSAW-HackML-2020/lab3/data/cl/test.h5 /content/CSAW-HackML-2020/lab3/data/bd/bd_test.h5 /content/drive/MyDrive/mycyb-lab3-models/10_percent.h5"
      ],
      "metadata": {
        "colab": {
          "base_uri": "https://localhost:8080/"
        },
        "id": "TeR675RLhdch",
        "outputId": "118e24c1-0ddf-4acc-d745-ba476448c316"
      },
      "execution_count": null,
      "outputs": [
        {
          "output_type": "stream",
          "name": "stdout",
          "text": [
            "2023-11-26 07:27:29.789562: E tensorflow/compiler/xla/stream_executor/cuda/cuda_dnn.cc:9342] Unable to register cuDNN factory: Attempting to register factory for plugin cuDNN when one has already been registered\n",
            "2023-11-26 07:27:29.789628: E tensorflow/compiler/xla/stream_executor/cuda/cuda_fft.cc:609] Unable to register cuFFT factory: Attempting to register factory for plugin cuFFT when one has already been registered\n",
            "2023-11-26 07:27:29.789669: E tensorflow/compiler/xla/stream_executor/cuda/cuda_blas.cc:1518] Unable to register cuBLAS factory: Attempting to register factory for plugin cuBLAS when one has already been registered\n",
            "2023-11-26 07:27:31.920918: W tensorflow/compiler/tf2tensorrt/utils/py_utils.cc:38] TF-TRT Warning: Could not find TensorRT\n",
            "WARNING:tensorflow:No training configuration found in the save file, so the model was *not* compiled. Compile it manually.\n",
            "401/401 [==============================] - 9s 21ms/step\n",
            "Clean Classification accuracy: 84.54403741231489\n",
            "401/401 [==============================] - 11s 27ms/step\n",
            "Attack Success Rate: 77.20966484801247\n"
          ]
        }
      ]
    },
    {
      "cell_type": "markdown",
      "source": [
        "## Bulding goodnet"
      ],
      "metadata": {
        "id": "KGSkA4V5Uvgm"
      }
    },
    {
      "cell_type": "code",
      "source": [
        "import numpy as np\n",
        "import tensorflow as tf\n",
        "from tensorflow import keras\n",
        "from tensorflow.keras.models import Model\n",
        "from tensorflow.keras.models import load_model"
      ],
      "metadata": {
        "id": "j-ru4OjskFIy"
      },
      "execution_count": null,
      "outputs": []
    },
    {
      "cell_type": "code",
      "source": [
        "import tensorflow as tf\n",
        "from tensorflow import keras\n",
        "\n",
        "class GoodNet(keras.Model):\n",
        "    def __init__(self, B, B_dash, n_classes=1283):\n",
        "        super(GoodNet, self).__init__()\n",
        "        self.B = B\n",
        "        self.B_dash = B_dash\n",
        "        self.n_classes = n_classes\n",
        "\n",
        "    def call(self, data):\n",
        "        y = tf.argmax(self.B(data), axis=1, output_type=tf.int32)\n",
        "        y_dash = tf.argmax(self.B_dash(data), axis=1, output_type=tf.int32)\n",
        "        default_class = tf.constant(self.n_classes, dtype=tf.int32)\n",
        "        predictions = tf.where(tf.equal(y, y_dash), y, tf.fill(tf.shape(y), default_class))\n",
        "        return predictions\n"
      ],
      "metadata": {
        "id": "vjUVuv9bpgCy"
      },
      "execution_count": null,
      "outputs": []
    },
    {
      "cell_type": "code",
      "source": [
        "percent_2_good_model = GoodNet(B=badnet_org, B_dash=percent_2_model, n_classes=1283)\n",
        "percent_4_good_model = GoodNet(B=badnet_org, B_dash=percent_4_model, n_classes=1283)\n",
        "percent_10_good_model = GoodNet(B=badnet_org, B_dash=percent_10_model, n_classes=1283)"
      ],
      "metadata": {
        "id": "-GXhI1xqn176"
      },
      "execution_count": null,
      "outputs": []
    },
    {
      "cell_type": "code",
      "source": [
        "G_cl_test_2_label_p = percent_2_good_model.predict(clean_test_X)\n",
        "G_clean_test_2_accuracy = np.mean(np.equal(G_cl_test_2_label_p, clean_test_Y))*100\n",
        "print('Combined 2% drops model, the clean test data Classification accuracy:', G_clean_test_2_accuracy)"
      ],
      "metadata": {
        "id": "pXI4t0A_pf36",
        "colab": {
          "base_uri": "https://localhost:8080/"
        },
        "outputId": "045117b7-a640-477b-e2db-9d377bcc8e35"
      },
      "execution_count": null,
      "outputs": [
        {
          "output_type": "stream",
          "name": "stdout",
          "text": [
            "401/401 [==============================] - 19s 46ms/step\n",
            "Combined 2% drops model, the clean test data Classification accuracy: 95.74434918160561\n"
          ]
        }
      ]
    },
    {
      "cell_type": "code",
      "source": [
        "def calculate_accuracy2(model, data, labels):\n",
        "    predictions = model.predict(data)\n",
        "    accuracy = np.mean(predictions == labels)\n",
        "    return accuracy*100"
      ],
      "metadata": {
        "id": "p0LbcNVEtKBs"
      },
      "execution_count": null,
      "outputs": []
    },
    {
      "cell_type": "code",
      "source": [
        "print(\"2 percent good model : \")\n",
        "print(\"clean accuracy : \" + str(calculate_accuracy2(percent_2_good_model,clean_test_X,clean_test_Y)))\n",
        "print(\"attack success rate : \" + str(calculate_accuracy2(percent_2_good_model,bad_test_X,bad_test_Y)))\n",
        "print(\"\\n\")\n",
        "\n",
        "print(\"4 percent good model : \")\n",
        "print(\"clean accuracy : \" + str(calculate_accuracy2(percent_4_good_model,clean_test_X,clean_test_Y)))\n",
        "print(\"attack success rate : \" + str(calculate_accuracy2(percent_4_good_model,bad_test_X,bad_test_Y)))\n",
        "print(\"\\n\")\n",
        "\n",
        "print(\"10 percent good model : \")\n",
        "print(\"clean accuracy : \" + str(calculate_accuracy2(percent_10_good_model,clean_test_X,clean_test_Y)))\n",
        "print(\"attack success rate : \" + str(calculate_accuracy2(percent_10_good_model,bad_test_X,bad_test_Y)))"
      ],
      "metadata": {
        "colab": {
          "base_uri": "https://localhost:8080/"
        },
        "id": "HmZH8jrPlp_H",
        "outputId": "17f6b982-2ec9-4abd-b772-53fdf48aa36e"
      },
      "execution_count": null,
      "outputs": [
        {
          "output_type": "stream",
          "name": "stdout",
          "text": [
            "2 percent good model : \n",
            "401/401 [==============================] - 20s 50ms/step\n",
            "clean accuracy : 95.74434918160561\n",
            "401/401 [==============================] - 18s 46ms/step\n",
            "attack success rate : 100.0\n",
            "\n",
            "\n",
            "4 percent good model : \n",
            "401/401 [==============================] - 19s 46ms/step\n",
            "clean accuracy : 92.1278254091972\n",
            "401/401 [==============================] - 20s 50ms/step\n",
            "attack success rate : 99.98441153546376\n",
            "\n",
            "\n",
            "10 percent good model : \n",
            "401/401 [==============================] - 19s 47ms/step\n",
            "clean accuracy : 84.3335931410756\n",
            "401/401 [==============================] - 19s 47ms/step\n",
            "attack success rate : 77.20966484801247\n"
          ]
        }
      ]
    },
    {
      "cell_type": "code",
      "source": [],
      "metadata": {
        "id": "Ebl8fO2Stbp4"
      },
      "execution_count": null,
      "outputs": []
    }
  ]
}